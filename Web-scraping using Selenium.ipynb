{
 "cells": [
  {
   "cell_type": "code",
   "execution_count": 81,
   "metadata": {},
   "outputs": [],
   "source": [
    "#relevant packages and modules\n",
    "from selenium import webdriver\n",
    "from selenium.webdriver.common.keys import Keys\n",
    "from selenium.webdriver.common.by import By\n",
    "from selenium.webdriver.chrome.options import Options\n",
    "import time\n",
    "import warnings\n",
    "warnings.filterwarnings('ignore')"
   ]
  },
  {
   "cell_type": "code",
   "execution_count": 82,
   "metadata": {},
   "outputs": [],
   "source": [
    "#relevant websites\n",
    "#website_1 = 'https://www.geekbuying.com/search?keyword=laptop'\n",
    "website_1 = 'https://www.amazon.in/'"
   ]
  },
  {
   "cell_type": "code",
   "execution_count": 83,
   "metadata": {},
   "outputs": [],
   "source": [
    "#initialize chrome website\n",
    "driver = webdriver.Chrome('C:\\Webdrivers\\chromedriver.exe')"
   ]
  },
  {
   "cell_type": "code",
   "execution_count": 84,
   "metadata": {},
   "outputs": [],
   "source": [
    "#open website \n",
    "driver.get(website_1)"
   ]
  },
  {
   "cell_type": "code",
   "execution_count": 85,
   "metadata": {},
   "outputs": [],
   "source": [
    "#maximize window\n",
    "driver.maximize_window()"
   ]
  },
  {
   "cell_type": "markdown",
   "metadata": {},
   "source": [
    "### Part 2 - Locators"
   ]
  },
  {
   "cell_type": "code",
   "execution_count": 45,
   "metadata": {},
   "outputs": [],
   "source": [
    "price = driver.find_element(\"xpath\",'//ul[@class=\"gridView\"]/li/div/div[3][1]')"
   ]
  },
  {
   "cell_type": "code",
   "execution_count": 46,
   "metadata": {},
   "outputs": [
    {
     "name": "stdout",
     "output_type": "stream",
     "text": [
      "₹63339.28\n"
     ]
    }
   ],
   "source": [
    "#print out the price\n",
    "print(price.text.split('\\n')[0])"
   ]
  },
  {
   "cell_type": "code",
   "execution_count": 47,
   "metadata": {},
   "outputs": [],
   "source": [
    "prices = driver.find_elements(\"xpath\",'//ul[@class=\"gridView\"]/li/div/div[3][1]')"
   ]
  },
  {
   "cell_type": "code",
   "execution_count": 48,
   "metadata": {},
   "outputs": [
    {
     "data": {
      "text/plain": [
       "list"
      ]
     },
     "execution_count": 48,
     "metadata": {},
     "output_type": "execute_result"
    }
   ],
   "source": [
    "type(prices)"
   ]
  },
  {
   "cell_type": "code",
   "execution_count": 49,
   "metadata": {},
   "outputs": [
    {
     "data": {
      "text/plain": [
       "40"
      ]
     },
     "execution_count": 49,
     "metadata": {},
     "output_type": "execute_result"
    }
   ],
   "source": [
    "len(prices)"
   ]
  },
  {
   "cell_type": "code",
   "execution_count": 50,
   "metadata": {},
   "outputs": [
    {
     "name": "stdout",
     "output_type": "stream",
     "text": [
      "₹63339.28\n",
      "₹49832.32\n",
      "₹33556.84\n",
      "₹77181.83\n",
      "₹7549.64\n",
      "₹22650.60\n",
      "₹25167.42\n",
      "₹13475.09\n",
      "₹28523.19\n",
      "₹7549.64\n",
      "₹117954.41\n",
      "₹117954.41\n",
      "₹106880.37\n",
      "₹88088.07\n",
      "₹25167.42\n",
      "₹2515.99\n",
      "₹5871.76\n",
      "₹98155.38\n",
      "₹95890.23\n",
      "₹95890.23\n",
      "₹106880.37\n",
      "₹20972.71\n",
      "₹16778.00\n",
      "₹3103.25\n",
      "₹4193.87\n",
      "₹1257.57\n",
      "₹37751.55\n",
      "₹13881.97\n",
      "₹23489.54\n",
      "₹7549.64\n",
      "₹61241.93\n",
      "₹11744.35\n",
      "₹29362.13\n",
      "₹2012.62\n",
      "₹20972.71\n",
      "₹124162.58\n",
      "₹120806.81\n",
      "₹2515.99\n",
      "₹2767.67\n",
      "₹6207.33\n"
     ]
    }
   ],
   "source": [
    "#print all the pricepoints\n",
    "for p in prices:\n",
    "    print(p.text.split('\\n')[0])"
   ]
  },
  {
   "cell_type": "markdown",
   "metadata": {},
   "source": [
    "### Part #3 - Class name"
   ]
  },
  {
   "cell_type": "code",
   "execution_count": 51,
   "metadata": {},
   "outputs": [],
   "source": [
    "title = driver.find_elements(By.CLASS_NAME,\"pro_title\")"
   ]
  },
  {
   "cell_type": "code",
   "execution_count": 52,
   "metadata": {},
   "outputs": [
    {
     "data": {
      "text/plain": [
       "list"
      ]
     },
     "execution_count": 52,
     "metadata": {},
     "output_type": "execute_result"
    }
   ],
   "source": [
    "type(title)"
   ]
  },
  {
   "cell_type": "code",
   "execution_count": 53,
   "metadata": {},
   "outputs": [
    {
     "data": {
      "text/plain": [
       "40"
      ]
     },
     "execution_count": 53,
     "metadata": {},
     "output_type": "execute_result"
    }
   ],
   "source": [
    "len(title)"
   ]
  },
  {
   "cell_type": "code",
   "execution_count": 54,
   "metadata": {},
   "outputs": [
    {
     "name": "stdout",
     "output_type": "stream",
     "text": [
      "ALLDOCUBE iWork GT 2 in 1 Tablet Windows 11 i5-1135G7 CPU, 8GB LPDDR4x 256GB PCIE SSD, 11'' Keyboard Not Included\n",
      "ALLDOCUBE iWork GT 2 in 1 Tablet Windows 11 i3-1115G4 CPU, 8GB LPDDR4x 256GB PCIE SSD, 11'' Keyboard Not Included\n",
      "ALLDOCUBE KNote X Pro Tablet Laptop Intel Gemini Lake N4100 13.3 Inch 1080P FHD Screen Windows 10 8GB RAM 128GB ROM - Grey\n",
      "ALLDOCUBE iWork GT 2 in 1 Tablet Windows 11 i5-1135G7 CPU 16GB LPDDR4x 512GB PCIE SSD, 11'' Keyboard Not Included\n",
      "Game Monitor Second Screen for Laptop PC Phone Xbox\n",
      "ALLDOCUBE GT BOOK 15 LAPTOP 15.6 inch FHD Intel Celeron N5100 12GB DDR4 RAM 256GB SSD WiFi Bluetooth - EU Plug\n",
      "ALLDOCUBE GT BOOK LAPTOP 14.1 inch FHD intel Celeron N5100 12GB DDR4 RAM 256GB SSD WiFi6 Bluetooth 5.1 - EU Plug\n",
      "NOVOO MiniGo 100W Portable Power Station, 148Wh/40000mAh Mobile Charger Power Supply, PD 60W Fast Charging, LED Light\n",
      "BMAX Y13 2-in-1 Convertible Laptop 13.3 Inch IPS Screen Intel Gemini Lake N4120 8GB DDR4 256GB SSD Windows 10 5000mAh Battery Backlit Keyboard - Grey\n",
      "Second Screen for Laptop PC Phone Xbox-US Plug\n",
      "GPD WIN Max 2 Smallest Handheld Gaming 10.1 Inch Touch Screen CPU AMD 6800U Mini PC RAM 32GB SSD 2TB - US Plug\n",
      "GPD WIN Max 2 Smallest Handheld Gaming 10.1 Inch Touch Screen CPU AMD 6800U Mini PC RAM 32GB SSD 2TB - EU Plug\n",
      "GPD WIN Max 2 Smallest Handheld Gaming 10.1 Inch Touch Screen CPU AMD 6800U Mini PC RAM 32GB SSD 1TB - EU Plug\n",
      "GPD Pocket 3 Laptop Mini Tablet PC 8 Inch 1920 x 1200 Resolution IPS Touchscreen Intel Core i7-1195G7 16GB RAM 1TB SSD Windows 10 Home 38.5Wh Battery - EU Plug\n",
      "BMAX X15 Laptop 15.6 Inch IPS Screen Intel Gemini Lake N4100 Windows 10 8GB RAM 256GB SSD 5000mAh Battery - Grey\n",
      "Type-C Hub 10 in 1 USB C to 4K HDMI+RJ45+PD 100W Charge+USB3.0+VGA+SD/TF card reader Dock for MacBook Windows\n",
      "Wireless Air Duster USB Dust Blower Handheld Dust Collector Rechargable Large Capacity Portable for PC Car Clean - 15000mAh Battery Capacity\n",
      "GPD Pocket 3 Laptop Mini Tablet PC 8 Inch 1920 x 1200 Resolution IPS Touchscreen Intel Core i7-1195G7 16GB RAM 1TB SSD Windows 10 Home 38.5Wh Battery - US Plug\n",
      "GPD WIN Max 2 Smallest Handheld Gaming 10.1 Inch Touch Screen CPU AMD 6800U Mini PC RAM 16GB SSD 1TB - US Plug\n",
      "GPD WIN Max 2 Smallest Handheld Gaming 10.1 Inch Touch Screen CPU AMD 6800U Mini PC RAM 16GB SSD 1TB - EU Plug\n",
      "GPD WIN Max 2 Smallest Handheld Gaming 10.1 Inch Touch Screen CPU AMD 6800U Mini PC RAM 32GB SSD 1TB - US Plug\n",
      "KUU XBOOK-2 14.1 inch Laptop Intel Gemini Lake J4105 8GB RAM 256GB SSD 1080P IPS WiFi Bluetooth Windows 11 Pro\n",
      "AJAZZ AC081 Hot-swappable Wired Mechanical Gaming Keyboard with White Switch Anti-Ghosting for PC\n",
      "Baseus 6-in-1 Type-C USB 3.0 HUB Adapter for Tablet Phone - Gray\n",
      "Xiaomi Wowstick 1F + Electric Screwdriver Bits Toolkit for Reparing Phone Toy Digital Product - Gray\n",
      "P1 Webcam 1080P with Microphone Auto Focus Light Correction For Windows PC Mac Desktop - Black\n",
      "BMAX X14 Pro Laptop 14.1 inch 1920 x 1080 IPS Screen AMD Ryzen 5-3450U 8GB RAM 512GB SSD Windows 10 OS 5000mAh Battery Full-size Backlit Keyboard\n",
      "NOVOO MiniGo 100W Portable Power Station, 148Wh/40000mAh Mobile Charger Power Supply, PD 60W Fast Charging, LED Light\n",
      "BMAX X15 Laptop 15.6 Inch IPS Screen Intel Gemini Lake N4100 Windows 10 8GB RAM 256GB SSD 5000mAh Battery - Grey\n",
      "Second Screen for Laptop PC Phone Xbox-JP Plug\n",
      "GPD Pocket 3 Laptop Mini Tablet PC 8 Inch 1920 x 1200 Resolution IPS Touchscreen Intel Pentium N6000 8GB RAM 512GB SSD Windows 10 Home 38.5Wh Battery - EU Plug\n",
      "Kingston A400 SSD 960GB SATA 3 2.5 Inch Solid State Drive Phison S11 Support Windows System 500MB/s Read Speed For Desktop - Dark Gray\n",
      "BMAX Y11 Plus 2-in-1 Laptop 11.6 Inch IPS Touch Screen Intel Jasper Lake N5100 8GB DDR4 256GB ROM Windows 10 5000 Battery Multi-language - Grey\n",
      "Type-C Hub 6 in 1 USB C to 4K HDMI+1000M RJ45+PD 100W Charge+USB 3.0*3 Dock for MacBook Windows\n",
      "KUU YOBOOK M Laptop 13.5\" 3000*2000 IPS Screen Intel Celeron N4020 6GB RAM 128GB SSD Windows 10 5000mAh Battery Multi-Language\n",
      "One Netbook OneGx1 Pro Gaming Laptop 7-inch 1920x1200 Intel i7-1160G7 16GB RAM 1TB SSD WiFi 6 Windows 10 - WiFi Version Black\n",
      "One Netbook OneGx1 Pro Gaming Laptop 7-inch 1920x1200 Intel i7-1160G7 16GB RAM 512GB SSD WiFi 6 Windows 10 - 4G Version Black\n",
      "Logitech Pebble Wireless Mouse Bluetooth 2.4GHz Mute Dual Modes Portable For PC - White\n",
      "Logitech G300S Wired Gaming Mouse 9 Programmable Keys 2500DPI Ergonomic Shape For PC / - Black\n",
      "Logitech G502 HERO Wired Gaming Mouse 16000DPI With 16.8 millon Backlight For PC / - Black\n"
     ]
    }
   ],
   "source": [
    "#printing out the text\n",
    "for n in title:\n",
    "    print(n.text)"
   ]
  },
  {
   "cell_type": "code",
   "execution_count": 55,
   "metadata": {},
   "outputs": [
    {
     "name": "stdout",
     "output_type": "stream",
     "text": [
      "ALLDOCUBE iWork GT 2 in 1 Tablet Windows 11 i5-1135G7 CPU, 8GB LPDDR4x 256GB PCIE SSD, 11'' Keyboard Not Included\n"
     ]
    }
   ],
   "source": [
    "print(title[0].text)"
   ]
  },
  {
   "cell_type": "markdown",
   "metadata": {},
   "source": [
    "### ID - Locator"
   ]
  },
  {
   "cell_type": "code",
   "execution_count": null,
   "metadata": {},
   "outputs": [],
   "source": []
  },
  {
   "cell_type": "code",
   "execution_count": null,
   "metadata": {},
   "outputs": [],
   "source": []
  },
  {
   "cell_type": "code",
   "execution_count": null,
   "metadata": {},
   "outputs": [],
   "source": []
  },
  {
   "cell_type": "code",
   "execution_count": null,
   "metadata": {},
   "outputs": [],
   "source": []
  },
  {
   "cell_type": "code",
   "execution_count": null,
   "metadata": {},
   "outputs": [],
   "source": []
  },
  {
   "cell_type": "code",
   "execution_count": null,
   "metadata": {},
   "outputs": [],
   "source": []
  },
  {
   "cell_type": "code",
   "execution_count": null,
   "metadata": {},
   "outputs": [],
   "source": []
  },
  {
   "cell_type": "markdown",
   "metadata": {},
   "source": [
    "### Amazon"
   ]
  },
  {
   "cell_type": "code",
   "execution_count": 86,
   "metadata": {},
   "outputs": [],
   "source": [
    "input_search = driver.find_element(by='id',value='twotabsearchtextbox')"
   ]
  },
  {
   "cell_type": "code",
   "execution_count": 87,
   "metadata": {},
   "outputs": [],
   "source": [
    "search_button = driver.find_element(by='xpath',value=\"(//input[@class='nav-input nav-progressive-attribute'])[2]\")"
   ]
  },
  {
   "cell_type": "code",
   "execution_count": 88,
   "metadata": {},
   "outputs": [],
   "source": [
    "#send "
   ]
  },
  {
   "cell_type": "code",
   "execution_count": 89,
   "metadata": {},
   "outputs": [],
   "source": [
    "input_search.send_keys('Smartphones under 10000')\n",
    "time.sleep(1)\n",
    "search_button.click()"
   ]
  },
  {
   "cell_type": "code",
   "execution_count": null,
   "metadata": {},
   "outputs": [],
   "source": [
    "//span[@class=\"a-size-medium a-color-base a-text-normal\"]"
   ]
  },
  {
   "cell_type": "code",
   "execution_count": null,
   "metadata": {},
   "outputs": [],
   "source": [
    "#class\n",
    "s-pagination-item s-pagination-next s-pagination-button s-pagination-separator"
   ]
  },
  {
   "cell_type": "markdown",
   "metadata": {},
   "source": [
    "### Scraping the names of the products"
   ]
  },
  {
   "cell_type": "code",
   "execution_count": 90,
   "metadata": {},
   "outputs": [],
   "source": [
    "from selenium.webdriver.common.by import By"
   ]
  },
  {
   "cell_type": "code",
   "execution_count": 91,
   "metadata": {},
   "outputs": [],
   "source": [
    "product = driver.find_elements(By.XPATH,value=\"//span[@class='a-size-medium a-color-base a-text-normal']\")"
   ]
  },
  {
   "cell_type": "code",
   "execution_count": 92,
   "metadata": {},
   "outputs": [],
   "source": [
    "next_page = driver.find_elements(By.XPATH,value=\"//div[@class='a-section a-text-center s-pagination-container']\")"
   ]
  },
  {
   "cell_type": "code",
   "execution_count": 97,
   "metadata": {},
   "outputs": [
    {
     "ename": "AttributeError",
     "evalue": "'list' object has no attribute 'click'",
     "output_type": "error",
     "traceback": [
      "\u001b[1;31m---------------------------------------------------------------------------\u001b[0m",
      "\u001b[1;31mAttributeError\u001b[0m                            Traceback (most recent call last)",
      "\u001b[1;32m<ipython-input-97-76ccf6f1fbec>\u001b[0m in \u001b[0;36m<module>\u001b[1;34m\u001b[0m\n\u001b[1;32m----> 1\u001b[1;33m \u001b[0mnext_page\u001b[0m\u001b[1;33m.\u001b[0m\u001b[0mclick\u001b[0m\u001b[1;33m(\u001b[0m\u001b[1;33m)\u001b[0m\u001b[1;33m\u001b[0m\u001b[1;33m\u001b[0m\u001b[0m\n\u001b[0m",
      "\u001b[1;31mAttributeError\u001b[0m: 'list' object has no attribute 'click'"
     ]
    }
   ],
   "source": [
    "next_page.click()"
   ]
  },
  {
   "cell_type": "code",
   "execution_count": null,
   "metadata": {},
   "outputs": [],
   "source": []
  }
 ],
 "metadata": {
  "kernelspec": {
   "display_name": "Python 3",
   "language": "python",
   "name": "python3"
  },
  "language_info": {
   "codemirror_mode": {
    "name": "ipython",
    "version": 3
   },
   "file_extension": ".py",
   "mimetype": "text/x-python",
   "name": "python",
   "nbconvert_exporter": "python",
   "pygments_lexer": "ipython3",
   "version": "3.8.3"
  }
 },
 "nbformat": 4,
 "nbformat_minor": 4
}
