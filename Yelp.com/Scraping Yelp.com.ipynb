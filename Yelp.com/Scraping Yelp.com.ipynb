{
 "cells": [
  {
   "cell_type": "code",
   "execution_count": 56,
   "metadata": {},
   "outputs": [],
   "source": [
    "#relevant packages and modules\n",
    "from selenium import webdriver\n",
    "from selenium.webdriver.common.keys import Keys\n",
    "from selenium.webdriver.common.by import By\n",
    "from selenium.webdriver.chrome.options import Options\n",
    "import time\n",
    "import warnings\n",
    "import pandas as pd\n",
    "import numpy as np\n",
    "warnings.filterwarnings('ignore')"
   ]
  },
  {
   "cell_type": "code",
   "execution_count": 57,
   "metadata": {},
   "outputs": [],
   "source": [
    "#providing the path of driver\n",
    "driver = webdriver.Chrome(executable_path='C:\\Webdrivers\\chromedriver.exe')"
   ]
  },
  {
   "cell_type": "code",
   "execution_count": 58,
   "metadata": {},
   "outputs": [],
   "source": [
    "#copy the url of the website which you want to scrape\n",
    "driver.get('https://www.yelp.com/search?find_desc=Dentists&find_loc=San+Francisco%2C+CA')"
   ]
  },
  {
   "cell_type": "code",
   "execution_count": 59,
   "metadata": {},
   "outputs": [],
   "source": [
    "#maximize window\n",
    "driver.maximize_window()"
   ]
  },
  {
   "cell_type": "code",
   "execution_count": 60,
   "metadata": {},
   "outputs": [],
   "source": [
    "#sleep\n",
    "time.sleep(5)"
   ]
  },
  {
   "cell_type": "markdown",
   "metadata": {},
   "source": [
    "### Locators of the data"
   ]
  },
  {
   "cell_type": "code",
   "execution_count": 61,
   "metadata": {},
   "outputs": [],
   "source": [
    "#1. Names of the dentists\n",
    "\n",
    "names = driver.find_elements(By.XPATH,value=\"//h3[@class='css-1agk4wl']/span/a\")"
   ]
  },
  {
   "cell_type": "code",
   "execution_count": 99,
   "metadata": {},
   "outputs": [],
   "source": [
    "n1=[]\n",
    "for n in names:\n",
    "    print(n.text)\n",
    "    n1.append(n.text)"
   ]
  },
  {
   "cell_type": "code",
   "execution_count": 63,
   "metadata": {},
   "outputs": [
    {
     "data": {
      "text/plain": [
       "19"
      ]
     },
     "execution_count": 63,
     "metadata": {},
     "output_type": "execute_result"
    }
   ],
   "source": [
    "len(names)"
   ]
  },
  {
   "cell_type": "code",
   "execution_count": 69,
   "metadata": {},
   "outputs": [],
   "source": [
    "#2. Specialties\n",
    "tags = driver.find_elements(By.XPATH,value=\"(//p[@class='css-dzq7l1'])[1]//button\")"
   ]
  },
  {
   "cell_type": "code",
   "execution_count": 107,
   "metadata": {},
   "outputs": [],
   "source": [
    "Tags1 = []\n",
    "for m in range(1,len(names)+1):\n",
    "    tags = driver.find_elements(By.XPATH,value=\"(//p[@class='css-dzq7l1'])[{}]//button\".format(m))\n",
    "    Tags = []\n",
    "    for i in tags:\n",
    "        #print(i.text)\n",
    "        Tags.append(i.text)\n",
    "    Tags1.append(Tags)"
   ]
  },
  {
   "cell_type": "code",
   "execution_count": 108,
   "metadata": {},
   "outputs": [],
   "source": [
    "Dict1 = {}\n",
    "for (m,j) in zip(n1,Tags1):\n",
    "    Dict1.setdefault(m,j)"
   ]
  },
  {
   "cell_type": "code",
   "execution_count": 200,
   "metadata": {},
   "outputs": [
    {
     "data": {
      "text/plain": [
       "[['Cosmetic Dentists', 'Orthodontists'],\n",
       " ['General Dentistry', 'Orthodontists', 'Cosmetic Dentists'],\n",
       " ['General Dentistry'],\n",
       " ['General Dentistry', 'Cosmetic Dentists'],\n",
       " ['General Dentistry', 'Cosmetic Dentists'],\n",
       " ['Endodontists', 'General Dentistry', 'Cosmetic Dentists'],\n",
       " ['General Dentistry', 'Oral Surgeons', 'Cosmetic Dentists'],\n",
       " ['Cosmetic Dentists', 'General Dentistry', 'Endodontists'],\n",
       " ['General Dentistry', 'Endodontists', 'Orthodontists'],\n",
       " ['General Dentistry', 'Cosmetic Dentists', 'Periodontists'],\n",
       " ['Cosmetic Dentists', 'Endodontists', 'General Dentistry'],\n",
       " ['Cosmetic Dentists', 'General Dentistry'],\n",
       " ['General Dentistry', 'Endodontists', 'Cosmetic Dentists'],\n",
       " ['General Dentistry', 'Orthodontists', 'Cosmetic Dentists'],\n",
       " ['General Dentistry', 'Cosmetic Dentists'],\n",
       " ['General Dentistry'],\n",
       " ['Orthodontists', 'Pediatric Dentists', 'General Dentistry'],\n",
       " ['Cosmetic Dentists', 'General Dentistry', 'Pediatric Dentists'],\n",
       " ['General Dentistry']]"
      ]
     },
     "execution_count": 200,
     "metadata": {},
     "output_type": "execute_result"
    }
   ],
   "source": [
    "Tags1"
   ]
  },
  {
   "cell_type": "code",
   "execution_count": 109,
   "metadata": {},
   "outputs": [
    {
     "data": {
      "text/plain": [
       "{'OrthoWorks - Financial District': ['Cosmetic Dentists', 'Orthodontists'],\n",
       " 'Jiahua Zhu,DDS - Yerba Buena Dentistry': ['General Dentistry',\n",
       "  'Orthodontists',\n",
       "  'Cosmetic Dentists'],\n",
       " 'Growney Maurice Jr, DDS': ['General Dentistry'],\n",
       " 'Afshin Rahimi, DMD': ['General Dentistry', 'Cosmetic Dentists'],\n",
       " 'Rebecca E Armel, DDS': ['General Dentistry', 'Cosmetic Dentists'],\n",
       " 'Claude Sidi, DMD': ['Endodontists',\n",
       "  'General Dentistry',\n",
       "  'Cosmetic Dentists'],\n",
       " 'Western Dental & Orthodontics': ['General Dentistry',\n",
       "  'Oral Surgeons',\n",
       "  'Cosmetic Dentists'],\n",
       " 'Pur Dentistry': ['Cosmetic Dentists', 'General Dentistry', 'Endodontists'],\n",
       " 'All Smiles Dental': ['General Dentistry', 'Endodontists', 'Orthodontists'],\n",
       " 'Pacific Heights Dental Studio': ['General Dentistry',\n",
       "  'Cosmetic Dentists',\n",
       "  'Periodontists'],\n",
       " 'Pastel Dental': ['Cosmetic Dentists', 'Endodontists', 'General Dentistry'],\n",
       " 'Golden Gate Dental': ['Cosmetic Dentists', 'General Dentistry'],\n",
       " 'Blair A Keck, DDS': ['General Dentistry',\n",
       "  'Endodontists',\n",
       "  'Cosmetic Dentists'],\n",
       " 'The Smile Center': ['General Dentistry',\n",
       "  'Orthodontists',\n",
       "  'Cosmetic Dentists'],\n",
       " 'Robert Phong Ho, DDS': ['General Dentistry'],\n",
       " 'Noe Valley Smiles and Braces': ['Orthodontists',\n",
       "  'Pediatric Dentists',\n",
       "  'General Dentistry'],\n",
       " 'Mission Dental Group SF': ['Cosmetic Dentists',\n",
       "  'General Dentistry',\n",
       "  'Pediatric Dentists'],\n",
       " 'Lydia Wong, DDS': ['General Dentistry']}"
      ]
     },
     "execution_count": 109,
     "metadata": {},
     "output_type": "execute_result"
    }
   ],
   "source": [
    "Dict1"
   ]
  },
  {
   "cell_type": "code",
   "execution_count": 126,
   "metadata": {},
   "outputs": [],
   "source": [
    "reviews = driver.find_elements(By.XPATH,value=\"(//span[@class=' css-chan6m'])[13]\".format(m))"
   ]
  },
  {
   "cell_type": "code",
   "execution_count": 127,
   "metadata": {},
   "outputs": [
    {
     "name": "stdout",
     "output_type": "stream",
     "text": [
      "Mission\n"
     ]
    }
   ],
   "source": [
    "for i in reviews:\n",
    "    print(i.text)"
   ]
  },
  {
   "cell_type": "code",
   "execution_count": 151,
   "metadata": {},
   "outputs": [],
   "source": [
    "#3 - Reviews"
   ]
  },
  {
   "cell_type": "code",
   "execution_count": 162,
   "metadata": {},
   "outputs": [],
   "source": [
    "Reviews1 = []\n",
    "for m in range(1,14,2):\n",
    "    reviews = driver.find_elements(By.XPATH,value=\"(//span[@class=' css-chan6m'])[{}]\".format(m))\n",
    "    for i in reviews:\n",
    "        #print(i.text)\n",
    "        Reviews1.append(i.text)"
   ]
  },
  {
   "cell_type": "code",
   "execution_count": 163,
   "metadata": {},
   "outputs": [],
   "source": [
    "#Reviews1 = []\n",
    "for m in range(14,38,2):\n",
    "    reviews = driver.find_elements(By.XPATH,value=\"(//span[@class=' css-chan6m'])[{}]\".format(m))\n",
    "    for i in reviews:\n",
    "        #print(i.text)\n",
    "        Reviews1.append(i.text)"
   ]
  },
  {
   "cell_type": "code",
   "execution_count": 165,
   "metadata": {},
   "outputs": [
    {
     "data": {
      "text/plain": [
       "19"
      ]
     },
     "execution_count": 165,
     "metadata": {},
     "output_type": "execute_result"
    }
   ],
   "source": [
    "len(Reviews1)"
   ]
  },
  {
   "cell_type": "code",
   "execution_count": 166,
   "metadata": {},
   "outputs": [],
   "source": [
    "import numpy as np"
   ]
  },
  {
   "cell_type": "code",
   "execution_count": 169,
   "metadata": {},
   "outputs": [],
   "source": [
    "Reviews1=list(map(lambda x:x.replace('Mission','Review missing'),Reviews1))"
   ]
  },
  {
   "cell_type": "code",
   "execution_count": 170,
   "metadata": {},
   "outputs": [
    {
     "data": {
      "text/plain": [
       "['(160 reviews)',\n",
       " '(12 reviews)',\n",
       " '(50 reviews)',\n",
       " '(111 reviews)',\n",
       " '(49 reviews)',\n",
       " '(65 reviews)',\n",
       " 'Review missing',\n",
       " '(22 reviews)',\n",
       " '(512 reviews)',\n",
       " '(221 reviews)',\n",
       " '(144 reviews)',\n",
       " '(189 reviews)',\n",
       " '(62 reviews)',\n",
       " '(81 reviews)',\n",
       " '(111 reviews)',\n",
       " '(116 reviews)',\n",
       " '(127 reviews)',\n",
       " '(75 reviews)',\n",
       " '(38 reviews)']"
      ]
     },
     "execution_count": 170,
     "metadata": {},
     "output_type": "execute_result"
    }
   ],
   "source": [
    "Reviews1"
   ]
  },
  {
   "cell_type": "code",
   "execution_count": 175,
   "metadata": {},
   "outputs": [
    {
     "data": {
      "text/plain": [
       "19"
      ]
     },
     "execution_count": 175,
     "metadata": {},
     "output_type": "execute_result"
    }
   ],
   "source": [
    "len(Reviews1)"
   ]
  },
  {
   "cell_type": "code",
   "execution_count": 183,
   "metadata": {},
   "outputs": [],
   "source": [
    "#4 location\n",
    "\n",
    "Location1 = []\n",
    "for m in range(2,13,2):\n",
    "    location = driver.find_elements(By.XPATH,value=\"(//span[@class=' css-chan6m'])[{}]\".format(m))\n",
    "    for i in location:\n",
    "        #print(i.text)\n",
    "        Location1.append(i.text)"
   ]
  },
  {
   "cell_type": "code",
   "execution_count": 184,
   "metadata": {},
   "outputs": [],
   "source": [
    "location = driver.find_elements(By.XPATH,value=\"(//span[@class=' css-chan6m'])[13]\")"
   ]
  },
  {
   "cell_type": "code",
   "execution_count": 185,
   "metadata": {},
   "outputs": [],
   "source": [
    "for i in location:\n",
    "    Location1.append(i.text)"
   ]
  },
  {
   "cell_type": "code",
   "execution_count": 186,
   "metadata": {},
   "outputs": [],
   "source": [
    "location = driver.find_elements(By.XPATH,value=\"(//span[@class=' css-chan6m'])[15]\")"
   ]
  },
  {
   "cell_type": "code",
   "execution_count": 187,
   "metadata": {},
   "outputs": [],
   "source": [
    "for i in location:\n",
    "    Location1.append(i.text)"
   ]
  },
  {
   "cell_type": "code",
   "execution_count": 188,
   "metadata": {},
   "outputs": [],
   "source": [
    "for m in range(17,38,2):\n",
    "    location = driver.find_elements(By.XPATH,value=\"(//span[@class=' css-chan6m'])[{}]\".format(m))\n",
    "    for i in location:\n",
    "        #print(i.text)\n",
    "        Location1.append(i.text)"
   ]
  },
  {
   "cell_type": "code",
   "execution_count": 189,
   "metadata": {},
   "outputs": [
    {
     "data": {
      "text/plain": [
       "19"
      ]
     },
     "execution_count": 189,
     "metadata": {},
     "output_type": "execute_result"
    }
   ],
   "source": [
    "len(Location1)"
   ]
  },
  {
   "cell_type": "code",
   "execution_count": 190,
   "metadata": {},
   "outputs": [
    {
     "data": {
      "text/plain": [
       "['Financial District',\n",
       " 'Financial District',\n",
       " 'West Portal',\n",
       " 'Pacific Heights',\n",
       " 'Union Square',\n",
       " 'Union Square',\n",
       " 'Mission',\n",
       " '',\n",
       " 'West Portal',\n",
       " 'Pacific Heights',\n",
       " 'Laurel Heights',\n",
       " 'Inner Richmond',\n",
       " 'Castro',\n",
       " 'Mission',\n",
       " 'Pacific Heights',\n",
       " 'Inner Richmond',\n",
       " 'Noe Valley',\n",
       " 'Mission',\n",
       " 'Financial District']"
      ]
     },
     "execution_count": 190,
     "metadata": {},
     "output_type": "execute_result"
    }
   ],
   "source": [
    "Location1"
   ]
  },
  {
   "cell_type": "code",
   "execution_count": 192,
   "metadata": {},
   "outputs": [],
   "source": [
    "#Rating out of 5\n",
    "\n",
    "rating = driver.find_elements(By.XPATH,value=\"//span[@class=' css-gutk1c']\")"
   ]
  },
  {
   "cell_type": "code",
   "execution_count": 201,
   "metadata": {},
   "outputs": [],
   "source": [
    "cnt=1\n",
    "Rating=[]\n",
    "for i in rating:\n",
    "    cnt=cnt+1\n",
    "    Rating.append(i.text)"
   ]
  },
  {
   "cell_type": "code",
   "execution_count": 205,
   "metadata": {},
   "outputs": [],
   "source": [
    "Rating = [float(i) for i in Rating]"
   ]
  },
  {
   "cell_type": "code",
   "execution_count": 222,
   "metadata": {},
   "outputs": [],
   "source": [
    "Rating.insert(6,np.NaN)"
   ]
  },
  {
   "cell_type": "markdown",
   "metadata": {},
   "source": [
    "### Creating the dataframe"
   ]
  },
  {
   "cell_type": "code",
   "execution_count": 224,
   "metadata": {},
   "outputs": [],
   "source": [
    "df = pd.DataFrame({\"Name\":n1,\"Specialties\":Tags1,\"Reviews\":Reviews1,\"Location\":Location1,\"Rating\":Rating})"
   ]
  },
  {
   "cell_type": "code",
   "execution_count": 234,
   "metadata": {},
   "outputs": [],
   "source": [
    "df[\"Reviews\"] = np.where(df[\"Reviews\"]=='Review missing','(Missing reviews)',df[\"Reviews\"])"
   ]
  },
  {
   "cell_type": "code",
   "execution_count": 235,
   "metadata": {},
   "outputs": [],
   "source": [
    "df[\"Reviews\"] = df[\"Reviews\"].apply(lambda x:x.split(' ')[0].split('(')[1])"
   ]
  },
  {
   "cell_type": "code",
   "execution_count": 240,
   "metadata": {},
   "outputs": [],
   "source": [
    "df[\"Specialties\"] = df[\"Specialties\"].apply(lambda x:', '.join(x))"
   ]
  },
  {
   "cell_type": "code",
   "execution_count": 244,
   "metadata": {},
   "outputs": [
    {
     "data": {
      "text/html": [
       "<div>\n",
       "<style scoped>\n",
       "    .dataframe tbody tr th:only-of-type {\n",
       "        vertical-align: middle;\n",
       "    }\n",
       "\n",
       "    .dataframe tbody tr th {\n",
       "        vertical-align: top;\n",
       "    }\n",
       "\n",
       "    .dataframe thead th {\n",
       "        text-align: right;\n",
       "    }\n",
       "</style>\n",
       "<table border=\"1\" class=\"dataframe\">\n",
       "  <thead>\n",
       "    <tr style=\"text-align: right;\">\n",
       "      <th></th>\n",
       "      <th>Name</th>\n",
       "      <th>Specialties</th>\n",
       "      <th>Reviews</th>\n",
       "      <th>Location</th>\n",
       "      <th>Rating</th>\n",
       "    </tr>\n",
       "  </thead>\n",
       "  <tbody>\n",
       "    <tr>\n",
       "      <th>0</th>\n",
       "      <td>OrthoWorks - Financial District</td>\n",
       "      <td>Cosmetic Dentists, Orthodontists</td>\n",
       "      <td>160</td>\n",
       "      <td>Financial District</td>\n",
       "      <td>4.3</td>\n",
       "    </tr>\n",
       "    <tr>\n",
       "      <th>1</th>\n",
       "      <td>Jiahua Zhu,DDS - Yerba Buena Dentistry</td>\n",
       "      <td>General Dentistry, Orthodontists, Cosmetic Dentists</td>\n",
       "      <td>12</td>\n",
       "      <td>Financial District</td>\n",
       "      <td>4.3</td>\n",
       "    </tr>\n",
       "    <tr>\n",
       "      <th>2</th>\n",
       "      <td>Growney Maurice Jr, DDS</td>\n",
       "      <td>General Dentistry</td>\n",
       "      <td>50</td>\n",
       "      <td>West Portal</td>\n",
       "      <td>4.8</td>\n",
       "    </tr>\n",
       "    <tr>\n",
       "      <th>3</th>\n",
       "      <td>Afshin Rahimi, DMD</td>\n",
       "      <td>General Dentistry, Cosmetic Dentists</td>\n",
       "      <td>111</td>\n",
       "      <td>Pacific Heights</td>\n",
       "      <td>4.9</td>\n",
       "    </tr>\n",
       "    <tr>\n",
       "      <th>4</th>\n",
       "      <td>Rebecca E Armel, DDS</td>\n",
       "      <td>General Dentistry, Cosmetic Dentists</td>\n",
       "      <td>49</td>\n",
       "      <td>Union Square</td>\n",
       "      <td>4.8</td>\n",
       "    </tr>\n",
       "    <tr>\n",
       "      <th>5</th>\n",
       "      <td>Claude Sidi, DMD</td>\n",
       "      <td>Endodontists, General Dentistry, Cosmetic Dentists</td>\n",
       "      <td>65</td>\n",
       "      <td>Union Square</td>\n",
       "      <td>5.0</td>\n",
       "    </tr>\n",
       "    <tr>\n",
       "      <th>6</th>\n",
       "      <td>Western Dental &amp; Orthodontics</td>\n",
       "      <td>General Dentistry, Oral Surgeons, Cosmetic Dentists</td>\n",
       "      <td>Missing</td>\n",
       "      <td>Mission</td>\n",
       "      <td>NaN</td>\n",
       "    </tr>\n",
       "    <tr>\n",
       "      <th>7</th>\n",
       "      <td>Pur Dentistry</td>\n",
       "      <td>Cosmetic Dentists, General Dentistry, Endodontists</td>\n",
       "      <td>22</td>\n",
       "      <td></td>\n",
       "      <td>4.9</td>\n",
       "    </tr>\n",
       "    <tr>\n",
       "      <th>8</th>\n",
       "      <td>All Smiles Dental</td>\n",
       "      <td>General Dentistry, Endodontists, Orthodontists</td>\n",
       "      <td>512</td>\n",
       "      <td>West Portal</td>\n",
       "      <td>4.8</td>\n",
       "    </tr>\n",
       "    <tr>\n",
       "      <th>9</th>\n",
       "      <td>Pacific Heights Dental Studio</td>\n",
       "      <td>General Dentistry, Cosmetic Dentists, Periodontists</td>\n",
       "      <td>221</td>\n",
       "      <td>Pacific Heights</td>\n",
       "      <td>4.8</td>\n",
       "    </tr>\n",
       "    <tr>\n",
       "      <th>10</th>\n",
       "      <td>Pastel Dental</td>\n",
       "      <td>Cosmetic Dentists, Endodontists, General Dentistry</td>\n",
       "      <td>144</td>\n",
       "      <td>Laurel Heights</td>\n",
       "      <td>4.8</td>\n",
       "    </tr>\n",
       "    <tr>\n",
       "      <th>11</th>\n",
       "      <td>Golden Gate Dental</td>\n",
       "      <td>Cosmetic Dentists, General Dentistry</td>\n",
       "      <td>189</td>\n",
       "      <td>Inner Richmond</td>\n",
       "      <td>4.8</td>\n",
       "    </tr>\n",
       "    <tr>\n",
       "      <th>12</th>\n",
       "      <td>Blair A Keck, DDS</td>\n",
       "      <td>General Dentistry, Endodontists, Cosmetic Dentists</td>\n",
       "      <td>62</td>\n",
       "      <td>Castro</td>\n",
       "      <td>4.0</td>\n",
       "    </tr>\n",
       "    <tr>\n",
       "      <th>13</th>\n",
       "      <td>The Smile Center</td>\n",
       "      <td>General Dentistry, Orthodontists, Cosmetic Dentists</td>\n",
       "      <td>81</td>\n",
       "      <td>Mission</td>\n",
       "      <td>4.8</td>\n",
       "    </tr>\n",
       "    <tr>\n",
       "      <th>14</th>\n",
       "      <td>Afshin Rahimi, DMD</td>\n",
       "      <td>General Dentistry, Cosmetic Dentists</td>\n",
       "      <td>111</td>\n",
       "      <td>Pacific Heights</td>\n",
       "      <td>4.9</td>\n",
       "    </tr>\n",
       "    <tr>\n",
       "      <th>15</th>\n",
       "      <td>Robert Phong Ho, DDS</td>\n",
       "      <td>General Dentistry</td>\n",
       "      <td>116</td>\n",
       "      <td>Inner Richmond</td>\n",
       "      <td>4.9</td>\n",
       "    </tr>\n",
       "    <tr>\n",
       "      <th>16</th>\n",
       "      <td>Noe Valley Smiles and Braces</td>\n",
       "      <td>Orthodontists, Pediatric Dentists, General Dentistry</td>\n",
       "      <td>127</td>\n",
       "      <td>Noe Valley</td>\n",
       "      <td>4.5</td>\n",
       "    </tr>\n",
       "    <tr>\n",
       "      <th>17</th>\n",
       "      <td>Mission Dental Group SF</td>\n",
       "      <td>Cosmetic Dentists, General Dentistry, Pediatric Dentists</td>\n",
       "      <td>75</td>\n",
       "      <td>Mission</td>\n",
       "      <td>4.9</td>\n",
       "    </tr>\n",
       "    <tr>\n",
       "      <th>18</th>\n",
       "      <td>Lydia Wong, DDS</td>\n",
       "      <td>General Dentistry</td>\n",
       "      <td>38</td>\n",
       "      <td>Financial District</td>\n",
       "      <td>4.6</td>\n",
       "    </tr>\n",
       "  </tbody>\n",
       "</table>\n",
       "</div>"
      ],
      "text/plain": [
       "                                      Name                                               Specialties  Reviews            Location  Rating\n",
       "0   OrthoWorks - Financial District         Cosmetic Dentists, Orthodontists                          160      Financial District  4.3   \n",
       "1   Jiahua Zhu,DDS - Yerba Buena Dentistry  General Dentistry, Orthodontists, Cosmetic Dentists       12       Financial District  4.3   \n",
       "2   Growney Maurice Jr, DDS                 General Dentistry                                         50       West Portal         4.8   \n",
       "3   Afshin Rahimi, DMD                      General Dentistry, Cosmetic Dentists                      111      Pacific Heights     4.9   \n",
       "4   Rebecca E Armel, DDS                    General Dentistry, Cosmetic Dentists                      49       Union Square        4.8   \n",
       "5   Claude Sidi, DMD                        Endodontists, General Dentistry, Cosmetic Dentists        65       Union Square        5.0   \n",
       "6   Western Dental & Orthodontics           General Dentistry, Oral Surgeons, Cosmetic Dentists       Missing  Mission            NaN    \n",
       "7   Pur Dentistry                           Cosmetic Dentists, General Dentistry, Endodontists        22                           4.9   \n",
       "8   All Smiles Dental                       General Dentistry, Endodontists, Orthodontists            512      West Portal         4.8   \n",
       "9   Pacific Heights Dental Studio           General Dentistry, Cosmetic Dentists, Periodontists       221      Pacific Heights     4.8   \n",
       "10  Pastel Dental                           Cosmetic Dentists, Endodontists, General Dentistry        144      Laurel Heights      4.8   \n",
       "11  Golden Gate Dental                      Cosmetic Dentists, General Dentistry                      189      Inner Richmond      4.8   \n",
       "12  Blair A Keck, DDS                       General Dentistry, Endodontists, Cosmetic Dentists        62       Castro              4.0   \n",
       "13  The Smile Center                        General Dentistry, Orthodontists, Cosmetic Dentists       81       Mission             4.8   \n",
       "14  Afshin Rahimi, DMD                      General Dentistry, Cosmetic Dentists                      111      Pacific Heights     4.9   \n",
       "15  Robert Phong Ho, DDS                    General Dentistry                                         116      Inner Richmond      4.9   \n",
       "16  Noe Valley Smiles and Braces            Orthodontists, Pediatric Dentists, General Dentistry      127      Noe Valley          4.5   \n",
       "17  Mission Dental Group SF                 Cosmetic Dentists, General Dentistry, Pediatric Dentists  75       Mission             4.9   \n",
       "18  Lydia Wong, DDS                         General Dentistry                                         38       Financial District  4.6   "
      ]
     },
     "execution_count": 244,
     "metadata": {},
     "output_type": "execute_result"
    }
   ],
   "source": [
    "pd.set_option('max_colwidth', -1)\n",
    "df"
   ]
  },
  {
   "cell_type": "code",
   "execution_count": null,
   "metadata": {},
   "outputs": [],
   "source": []
  }
 ],
 "metadata": {
  "kernelspec": {
   "display_name": "Python 3",
   "language": "python",
   "name": "python3"
  },
  "language_info": {
   "codemirror_mode": {
    "name": "ipython",
    "version": 3
   },
   "file_extension": ".py",
   "mimetype": "text/x-python",
   "name": "python",
   "nbconvert_exporter": "python",
   "pygments_lexer": "ipython3",
   "version": "3.8.3"
  }
 },
 "nbformat": 4,
 "nbformat_minor": 4
}
